{
 "cells": [
  {
   "cell_type": "markdown",
   "metadata": {},
   "source": [
    "# Numerical experiment 1"
   ]
  },
  {
   "cell_type": "code",
   "execution_count": 1,
   "metadata": {},
   "outputs": [],
   "source": [
    "import os\n",
    "import numpy as np\n",
    "import matplotlib.pylab as plt\n",
    "from matplotlib import gridspec\n",
    "os.chdir('../')\n",
    "from src.dynamical_system.model import lorenz96, lorenz96_Jacobian\n",
    "from src.dynamical_system.simulate import simulate_rk4\n",
    "from src.dynamical_system.lyapunov_exponent import shimada_nagashima_algorithm, fractal_dim_from_lyapunov\n",
    "from src.intrinsic_dimension_estimation import Maximum_Likelihood_Estimation_of_ID as MLE_ID"
   ]
  },
  {
   "cell_type": "code",
   "execution_count": 2,
   "metadata": {},
   "outputs": [],
   "source": [
    "rcParams_dict = {\n",
    "    'font.family':'Times New Roman',\n",
    "    'mathtext.fontset':'stix',\n",
    "    'font.size':15,\n",
    "    'xtick.direction':'in',\n",
    "    'ytick.direction':'in',\n",
    "    'axes.linewidth':1.5,\n",
    "    'xtick.major.size':8,\n",
    "    'ytick.major.size':8,}\n",
    "\n",
    "for key in rcParams_dict.keys():plt.rcParams[str(key)] = rcParams_dict[str(key)]"
   ]
  },
  {
   "cell_type": "code",
   "execution_count": 3,
   "metadata": {},
   "outputs": [],
   "source": [
    "rcParams_dict = {\n",
    "    'font.family':'Times New Roman',\n",
    "    'mathtext.fontset':'stix',\n",
    "    'font.size':15,\n",
    "    'xtick.direction':'in',\n",
    "    'ytick.direction':'in',\n",
    "    'axes.linewidth':1.5,\n",
    "    'xtick.major.size':8,\n",
    "    'ytick.major.size':8,}\n",
    "for key in rcParams_dict.keys():plt.rcParams[str(key)] = rcParams_dict[str(key)]"
   ]
  },
  {
   "cell_type": "code",
   "execution_count": 7,
   "metadata": {},
   "outputs": [],
   "source": [
    "### DEFINE\n",
    "SEED = 0\n",
    "np.random.seed(seed=SEED)\n",
    "F_LIST = [5.5, 7.0, 9.5, 17.0]\n",
    "N = 10\n",
    "X_INIT = np.random.random(N)\n",
    "SIMULATION_SETTINGS={'start time':0.,\n",
    "                     'ending time':1100.,\n",
    "                     'time step size':0.01,}\n",
    "N_UNIT_AFTER = 10000\n",
    "N_STEP = 10\n",
    "N_ESTIMATION = 10000\n",
    "K_LIST = np.arange(15, 450, 10)"
   ]
  },
  {
   "cell_type": "code",
   "execution_count": 4,
   "metadata": {},
   "outputs": [
    {
     "name": "stdout",
     "output_type": "stream",
     "text": [
      "Experiment1 (F = 5.5) \n"
     ]
    },
    {
     "name": "stderr",
     "output_type": "stream",
     "text": [
      "                                                                     \r"
     ]
    },
    {
     "name": "stdout",
     "output_type": "stream",
     "text": [
      "   fractal-dimension:   4\n"
     ]
    },
    {
     "name": "stderr",
     "output_type": "stream",
     "text": [
      "                                                                                 \r"
     ]
    },
    {
     "name": "stdout",
     "output_type": "stream",
     "text": [
      "   intrinsic-dimension: 3.971536602201809\n",
      "-----------------------------------------\n",
      "Experiment2 (F = 7.0) \n"
     ]
    },
    {
     "name": "stderr",
     "output_type": "stream",
     "text": [
      "                                                                     \r"
     ]
    },
    {
     "name": "stdout",
     "output_type": "stream",
     "text": [
      "   fractal-dimension:   5\n"
     ]
    },
    {
     "name": "stderr",
     "output_type": "stream",
     "text": [
      "                                                                                 \r"
     ]
    },
    {
     "name": "stdout",
     "output_type": "stream",
     "text": [
      "   intrinsic-dimension: 5.023163201047921\n",
      "-----------------------------------------\n",
      "Experiment3 (F = 9.5) \n"
     ]
    },
    {
     "name": "stderr",
     "output_type": "stream",
     "text": [
      "                                                                     \r"
     ]
    },
    {
     "name": "stdout",
     "output_type": "stream",
     "text": [
      "   fractal-dimension:   6\n"
     ]
    },
    {
     "name": "stderr",
     "output_type": "stream",
     "text": [
      "                                                                                 \r"
     ]
    },
    {
     "name": "stdout",
     "output_type": "stream",
     "text": [
      "   intrinsic-dimension: 5.932634798892141\n",
      "-----------------------------------------\n",
      "Experiment4 (F = 17.0) \n"
     ]
    },
    {
     "name": "stderr",
     "output_type": "stream",
     "text": [
      "                                                                     \r"
     ]
    },
    {
     "name": "stdout",
     "output_type": "stream",
     "text": [
      "   fractal-dimension:   7\n"
     ]
    },
    {
     "name": "stderr",
     "output_type": "stream",
     "text": [
      "                                                                                 "
     ]
    },
    {
     "name": "stdout",
     "output_type": "stream",
     "text": [
      "   intrinsic-dimension: 6.806042716881738\n",
      "-----------------------------------------\n"
     ]
    },
    {
     "name": "stderr",
     "output_type": "stream",
     "text": [
      "\r"
     ]
    }
   ],
   "source": [
    "### Numerical experiments\n",
    "fractal_dim_list = []\n",
    "intrinsic_dim_list = []\n",
    "for i, F in enumerate(F_LIST):\n",
    "    print(\"Experiment\"+str(i+1)+\" (F = \"+str(F)+\") \")\n",
    "    ### Simulate lorenz96\n",
    "    X, T = simulate_rk4(lorenz96, X_INIT, F, SIMULATION_SETTINGS)\n",
    "    X = X[N_UNIT_AFTER::N_STEP]\n",
    "    T = T[N_UNIT_AFTER::N_STEP]\n",
    "    ### Compute fractal-dimension\n",
    "    lyapunov_exponent = shimada_nagashima_algorithm(lorenz96_Jacobian, X[:N_ESTIMATION], SIMULATION_SETTINGS['time step size']*N_STEP)\n",
    "    fractal_dim = fractal_dim_from_lyapunov(lyapunov_exponent)\n",
    "    print(\"   fractal-dimension:   \"+str(fractal_dim))\n",
    "    ### Estimate intrinsic-dimension\n",
    "    estimator = MLE_ID()\n",
    "    intrinsic_dim = estimator.fit(X[:N_ESTIMATION], K_LIST, standardization=False)\n",
    "    print(\"   intrinsic-dimension: \"+str(intrinsic_dim[-1]))\n",
    "    ### Record\n",
    "    fractal_dim_list.append(fractal_dim)\n",
    "    intrinsic_dim_list.append(intrinsic_dim)\n",
    "    print(\"-----------------------------------------\")"
   ]
  },
  {
   "cell_type": "code",
   "execution_count": 10,
   "metadata": {},
   "outputs": [],
   "source": [
    "def estimated_dimension_list(fractal_dim_list, intrinsic_dim_list, k_list, label_list, \n",
    "                             c=('b', 'r', 'g', 'm'), m=('o', 's', '^', 'v')):\n",
    "    spec = gridspec.GridSpec(ncols=1, nrows=1)\n",
    "    fig = plt.figure(figsize=(10, 3))\n",
    "    ax = fig.add_subplot(spec[0])\n",
    "    for i in range(len(fractal_dim_list)): ax.axhline(y=fractal_dim_list[i], linestyle='--', c='k')\n",
    "    for i in range(len(fractal_dim_list)): ax.plot(k_list, intrinsic_dim_list[i], marker=m[i], c=c[i], ms=5, label=label_list[i])\n",
    "    ax.set_xlabel(r'Number of Nearest Neighbor $k$')\n",
    "    ax.set_ylabel(r'Estimated dimension $\\hat{D}$')\n",
    "    fig.legend(loc=\"upper center\", facecolor=\"white\", edgecolor=\"white\", bbox_to_anchor=(0.5, 1.06), ncol=len(fractal_dim_list))\n",
    "    plt.show()"
   ]
  },
  {
   "cell_type": "code",
   "execution_count": 11,
   "metadata": {},
   "outputs": [
    {
     "data": {
      "image/png": "[encoded data removed]",
      "text/plain": [
       "<Figure size 1000x300 with 1 Axes>"
      ]
     },
     "metadata": {},
     "output_type": "display_data"
    }
   ],
   "source": [
    "estimated_dimension_list(fractal_dim_list[:4], intrinsic_dim_list[:4], K_LIST, \n",
    "                         [r'$D_{f}=$'+str(fractal_dim_list[0]),\n",
    "                          r'$D_{f}=$'+str(fractal_dim_list[1]),\n",
    "                          r'$D_{f}=$'+str(fractal_dim_list[2]),\n",
    "                          r'$D_{f}=$'+str(fractal_dim_list[3])],)"
   ]
  }
 ],
 "metadata": {
  "kernelspec": {
   "display_name": "venv",
   "language": "python",
   "name": "python3"
  },
  "language_info": {
   "codemirror_mode": {
    "name": "ipython",
    "version": 3
   },
   "file_extension": ".py",
   "mimetype": "text/x-python",
   "name": "python",
   "nbconvert_exporter": "python",
   "pygments_lexer": "ipython3",
   "version": "3.8.10"
  }
 },
 "nbformat": 4,
 "nbformat_minor": 2
}
